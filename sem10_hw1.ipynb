{
 "cells": [
  {
   "cell_type": "code",
   "execution_count": 1,
   "id": "c47ff41e-07df-4876-bc08-1c759dd34a37",
   "metadata": {},
   "outputs": [],
   "source": [
    "# Задача 44: В ячейке ниже представлен код генерирующий DataFrame, которая состоит всего из 1 столбца. \n",
    "# Ваша задача перевести его в one hot вид. Сможете ли вы это сделать без get_dummies?\n",
    "import pandas as pd\n",
    "import random"
   ]
  },
  {
   "cell_type": "code",
   "execution_count": 2,
   "id": "97a6f750-8e97-48f2-8058-86000b1f331c",
   "metadata": {},
   "outputs": [
    {
     "name": "stdout",
     "output_type": "stream",
     "text": [
      "['robot', 'human', 'human', 'human', 'robot', 'human', 'human', 'human', 'robot', 'human', 'robot', 'robot', 'robot', 'robot', 'robot', 'robot', 'robot', 'human', 'human', 'human']\n"
     ]
    }
   ],
   "source": [
    "lst = ['robot'] * 10\n",
    "lst += ['human'] * 10\n",
    "random.shuffle(lst)\n",
    "print(lst)"
   ]
  },
  {
   "cell_type": "code",
   "execution_count": 3,
   "id": "9fdf7549-9f1f-496c-b9cd-9001dab3f82f",
   "metadata": {},
   "outputs": [
    {
     "name": "stdout",
     "output_type": "stream",
     "text": [
      "   whoAmI\n",
      "0   robot\n",
      "1   human\n",
      "2   human\n",
      "3   human\n",
      "4   robot\n",
      "5   human\n",
      "6   human\n",
      "7   human\n",
      "8   robot\n",
      "9   human\n",
      "10  robot\n",
      "11  robot\n",
      "12  robot\n",
      "13  robot\n",
      "14  robot\n",
      "15  robot\n",
      "16  robot\n",
      "17  human\n",
      "18  human\n",
      "19  human\n"
     ]
    }
   ],
   "source": [
    "data = pd.DataFrame({'whoAmI':lst})\n",
    "print(data) #data.head()"
   ]
  },
  {
   "cell_type": "code",
   "execution_count": 4,
   "id": "c1b469fa-443e-4846-8281-4b5e2d3f70c0",
   "metadata": {},
   "outputs": [
    {
     "name": "stdout",
     "output_type": "stream",
     "text": [
      "['human', 'robot', 'robot', 'robot', 'robot', 'human', 'human', 'human', 'human', 'robot', 'robot', 'robot', 'robot', 'robot', 'human', 'human', 'human', 'human', 'human', 'robot']\n"
     ]
    }
   ],
   "source": [
    "# перевести его в one hot вид\n",
    "lst = ['robot'] * 10\n",
    "lst += ['human'] * 10\n",
    "random.shuffle(lst)\n",
    "print(lst)"
   ]
  },
  {
   "cell_type": "code",
   "execution_count": 5,
   "id": "99812685-d63b-4750-a84c-200b0a74bf5d",
   "metadata": {},
   "outputs": [
    {
     "data": {
      "text/html": [
       "<div>\n",
       "<style scoped>\n",
       "    .dataframe tbody tr th:only-of-type {\n",
       "        vertical-align: middle;\n",
       "    }\n",
       "\n",
       "    .dataframe tbody tr th {\n",
       "        vertical-align: top;\n",
       "    }\n",
       "\n",
       "    .dataframe thead th {\n",
       "        text-align: right;\n",
       "    }\n",
       "</style>\n",
       "<table border=\"1\" class=\"dataframe\">\n",
       "  <thead>\n",
       "    <tr style=\"text-align: right;\">\n",
       "      <th></th>\n",
       "      <th>whoAmI</th>\n",
       "    </tr>\n",
       "  </thead>\n",
       "  <tbody>\n",
       "    <tr>\n",
       "      <th>0</th>\n",
       "      <td>human</td>\n",
       "    </tr>\n",
       "    <tr>\n",
       "      <th>1</th>\n",
       "      <td>robot</td>\n",
       "    </tr>\n",
       "    <tr>\n",
       "      <th>2</th>\n",
       "      <td>robot</td>\n",
       "    </tr>\n",
       "    <tr>\n",
       "      <th>3</th>\n",
       "      <td>robot</td>\n",
       "    </tr>\n",
       "    <tr>\n",
       "      <th>4</th>\n",
       "      <td>robot</td>\n",
       "    </tr>\n",
       "  </tbody>\n",
       "</table>\n",
       "</div>"
      ],
      "text/plain": [
       "  whoAmI\n",
       "0  human\n",
       "1  robot\n",
       "2  robot\n",
       "3  robot\n",
       "4  robot"
      ]
     },
     "execution_count": 5,
     "metadata": {},
     "output_type": "execute_result"
    }
   ],
   "source": [
    "data = pd.DataFrame({'whoAmI':lst})\n",
    "data.head()"
   ]
  },
  {
   "cell_type": "markdown",
   "id": "3075f043-08c0-438e-8039-f4661bd18300",
   "metadata": {},
   "source": [
    "#### Как выбрать строки по нескольким условиям, используя Pandas loc\n",
    "#### https://www.codecamp.ru/blog/pandas-loc-multiple-conditions/"
   ]
  },
  {
   "cell_type": "code",
   "execution_count": 6,
   "id": "29be0535-f001-45f4-8ad1-7d7126baa041",
   "metadata": {},
   "outputs": [
    {
     "name": "stdout",
     "output_type": "stream",
     "text": [
      "   whoAmI robot human\n",
      "0   human     0     1\n",
      "1   robot     1     0\n",
      "2   robot     1     0\n",
      "3   robot     1     0\n",
      "4   robot     1     0\n",
      "5   human     0     1\n",
      "6   human     0     1\n",
      "7   human     0     1\n",
      "8   human     0     1\n",
      "9   robot     1     0\n",
      "10  robot     1     0\n",
      "11  robot     1     0\n",
      "12  robot     1     0\n",
      "13  robot     1     0\n",
      "14  human     0     1\n",
      "15  human     0     1\n",
      "16  human     0     1\n",
      "17  human     0     1\n",
      "18  human     0     1\n",
      "19  robot     1     0\n"
     ]
    }
   ],
   "source": [
    "data.loc[data['whoAmI'] == 'robot', 'robot'] = '1'\n",
    "data.loc[data['whoAmI'] != 'robot', 'robot'] = '0'\n",
    "data.loc[data['whoAmI'] == 'human', 'human'] = '1'\n",
    "data.loc[data['whoAmI'] != 'human', 'human'] = '0'\n",
    "print(data)"
   ]
  }
 ],
 "metadata": {
  "kernelspec": {
   "display_name": "Python 3 (ipykernel)",
   "language": "python",
   "name": "python3"
  },
  "language_info": {
   "codemirror_mode": {
    "name": "ipython",
    "version": 3
   },
   "file_extension": ".py",
   "mimetype": "text/x-python",
   "name": "python",
   "nbconvert_exporter": "python",
   "pygments_lexer": "ipython3",
   "version": "3.11.7"
  }
 },
 "nbformat": 4,
 "nbformat_minor": 5
}
